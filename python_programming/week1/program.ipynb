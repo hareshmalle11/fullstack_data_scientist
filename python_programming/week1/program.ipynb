{
 "cells": [
  {
   "cell_type": "code",
   "execution_count": null,
   "metadata": {},
   "outputs": [
    {
     "name": "stdout",
     "output_type": "stream",
     "text": [
      "Total Bill = (50*2) + (30*5) + (20*3) = 100 + 150 + 60 = 310\n"
     ]
    }
   ],
   "source": [
    "# Scenario: A grocery shopkeeper wants to calculate the bill of 3 items. Prices and quantities should be stored in variables, and the program should display the total cost. Sample Input: Item1 Price: 50, Quantity: 2, Item2 Price: 30, Quantity: 5, Item3 Price: 20, Quantity: 3. Expected Output: Total Bill = (50*2) + (30*5) + (20*3) = 100 + 150 + 60 = 310\n",
    "p1, q1 = 50, 2\n",
    "p2, q2 = 30, 5\n",
    "p3, q3 = 20, 3\n",
    "total = (p1 * q1) + (p2 * q2) + (p3 * q3)\n",
    "print(f'Total Bill = ({p1}*{q1}) + ({p2}*{q2}) + ({p3}*{q3}) = {p1*q1} + {p2*q2} + {p3*q3} = {total}')"
   ]
  },
  {
   "cell_type": "code",
   "execution_count": null,
   "metadata": {},
   "outputs": [
    {
     "name": "stdout",
     "output_type": "stream",
     "text": [
      "Addition = 19\n",
      "Subtraction = 11\n",
      "Multiplication = 60\n",
      "Division = 3.75\n",
      "Modulus = 3\n"
     ]
    }
   ],
   "source": [
    "# Build a calculator that takes two numbers and performs addition, subtraction, multiplication, division, and modulus. Sample Input: Enter first number: 15, Enter second number: 4. Expected Output: Addition = 19, Subtraction = 11, Multiplication = 60, Division = 3.75, Modulus = 3\n",
    "a = 15\n",
    "b = 4\n",
    "print(f'Addition = {a + b}')\n",
    "print(f'Subtraction = {a - b}')\n",
    "print(f'Multiplication = {a * b}')\n",
    "print(f'Division = {a / b}')\n",
    "print(f'Modulus = {a % b}')"
   ]
  },
  {
   "cell_type": "code",
   "execution_count": null,
   "metadata": {},
   "outputs": [
    {
     "name": "stdout",
     "output_type": "stream",
     "text": [
      "Grade: A (Excellent)\n"
     ]
    }
   ],
   "source": [
    "# A teacher wants a grading system where marks are input, and the grade is displayed. Sample Input: Enter marks: 82. Expected Output: Grade: A (Excellent). (Rules: >=90 → A+, 80–89 → A, 70–79 → B, 60–69 → C, <60 → Fail)\n",
    "marks = 82\n",
    "if marks >= 90:\n",
    "    print('Grade: A+ (Excellent)')\n",
    "elif marks >= 80:\n",
    "    print('Grade: A (Excellent)')\n",
    "elif marks >= 70:\n",
    "    print('Grade: B (Good)')\n",
    "elif marks >= 60:\n",
    "    print('Grade: C (Average)')\n",
    "else:\n",
    "    print('Grade: Fail')"
   ]
  },
  {
   "cell_type": "code",
   "execution_count": null,
   "metadata": {},
   "outputs": [
    {
     "name": "stdout",
     "output_type": "stream",
     "text": [
      "Highest Marks = 90\n",
      "Lowest Marks = 45\n",
      "Average Marks = 71.4\n"
     ]
    }
   ],
   "source": [
    "# Scenario: Store marks of 5 students in a list. Display the highest, lowest, and average marks. Sample Input: Marks: [45, 78, 88, 56, 90]. Expected Output: Highest Marks = 90, Lowest Marks = 45, Average Marks = 71.4\n",
    "marks = [45, 78, 88, 56, 90]\n",
    "print(f'Highest Marks = {max(marks)}')\n",
    "print(f'Lowest Marks = {min(marks)}')\n",
    "print(f'Average Marks = {sum(marks) / len(marks)}')"
   ]
  },
  {
   "cell_type": "code",
   "execution_count": null,
   "metadata": {},
   "outputs": [
    {
     "name": "stdout",
     "output_type": "stream",
     "text": [
      "Phone Number of Ravi: 9123456780\n"
     ]
    }
   ],
   "source": [
    "# Create a phonebook using a dictionary where names are keys and numbers are values. Allow searching for a number by name. Sample Input: Phonebook = {\"Suhel\": 9876543210, \"Ravi\": 9123456780, \"Anita\": 9988776655}, Search Name: Ravi. Expected Output: Phone Number of Ravi: 9123456780\n",
    "phonebook = {\"Suhel\": 9876543210, \"Ravi\": 9123456780, \"Anita\": 9988776655}\n",
    "name = \"Ravi\"\n",
    "print(f'Phone Number of {name}: {phonebook.get(name, \"Not found\")}')"
   ]
  },
  {
   "cell_type": "code",
   "execution_count": null,
   "metadata": {},
   "outputs": [
    {
     "name": "stdout",
     "output_type": "stream",
     "text": [
      "Total Words = 3\n",
      "Total Characters = 16\n",
      "Total Vowels = 6\n"
     ]
    }
   ],
   "source": [
    "# Write a program to count the number of words, characters, and vowels in a sentence. Sample Input: Enter sentence: \"Python is awesome\". Expected Output: Total Words = 3, Total Characters = 16, Total Vowels = 6\n",
    "s = \"Python is awesome\"\n",
    "words = len(s.split())\n",
    "chars = len(s.replace(\" \", \"\"))\n",
    "vowels = sum(1 for c in s.lower() if c in 'aeiou')\n",
    "print(f'Total Words = {words}')\n",
    "print(f'Total Characters = {chars}')\n",
    "print(f'Total Vowels = {vowels}')"
   ]
  },
  {
   "cell_type": "code",
   "execution_count": null,
   "metadata": {},
   "outputs": [
    {
     "name": "stdout",
     "output_type": "stream",
     "text": [
      "Compound Interest = 512.5\n",
      "Total Amount = 5512.5\n"
     ]
    }
   ],
   "source": [
    "# A bank provides simple interest and compound interest. A user inputs principal, rate, time, and type of interest. Program should calculate accordingly. Sample Input: Principal = 5000, Rate = 5, Time = 2, Interest Type = Compound. Expected Output: Compound Interest = 512.50, Total Amount = 5512.50\n",
    "p = 5000\n",
    "r = 5\n",
    "t = 2\n",
    "type = \"Compound\"\n",
    "if type == \"Simple\":\n",
    "    si = (p * r * t) / 100\n",
    "    print(f'Simple Interest = {si}')\n",
    "    print(f'Total Amount = {p + si}')\n",
    "else:\n",
    "    amount = p * (1 + r/100) ** t\n",
    "    ci = amount - p\n",
    "    print(f'Compound Interest = {ci}')\n",
    "    print(f'Total Amount = {amount}')"
   ]
  },
  {
   "cell_type": "code",
   "execution_count": null,
   "metadata": {},
   "outputs": [
    {
     "name": "stdout",
     "output_type": "stream",
     "text": [
      "Encrypted Message: KHOOR\n"
     ]
    }
   ],
   "source": [
    "# Implement a Caesar Cipher encryption. User inputs a message and a shift key. Program outputs the encrypted text using operators. Sample Input: Message = \"HELLO\", Shift = 3. Expected Output: Encrypted Message: KHOOR\n",
    "msg = \"HELLO\"\n",
    "shift = 3\n",
    "encrypted = \"\"\n",
    "for c in msg:\n",
    "    if c.isalpha():\n",
    "        base = ord('A') if c.isupper() else ord('a')\n",
    "        encrypted += chr((ord(c) - base + shift) % 26 + base)\n",
    "    else:\n",
    "        encrypted += c\n",
    "print(f'Encrypted Message: {encrypted}')"
   ]
  },
  {
   "cell_type": "code",
   "execution_count": null,
   "metadata": {},
   "outputs": [
    {
     "name": "stdout",
     "output_type": "stream",
     "text": [
      "PIN Verified.\n",
      "Withdrawal Successful. Remaining Balance = 3000\n"
     ]
    }
   ],
   "source": [
    "# Build an ATM where users can withdraw money if they have sufficient balance, otherwise display “Insufficient Balance”. Handle PIN verification too. Sample Input: PIN = 1234, Balance = 5000, Withdraw = 2000. Expected Output: PIN Verified. Withdrawal Successful. Remaining Balance = 3000\n",
    "correct_pin = 1234\n",
    "pin = 1234\n",
    "balance = 5000\n",
    "withdraw = 2000\n",
    "if pin == correct_pin:\n",
    "    print('PIN Verified.')\n",
    "    if withdraw <= balance:\n",
    "        balance -= withdraw\n",
    "        print(f'Withdrawal Successful. Remaining Balance = {balance}')\n",
    "    else:\n",
    "        print('Insufficient Balance')\n",
    "else:\n",
    "    print('Invalid PIN')"
   ]
  },
  {
   "cell_type": "code",
   "execution_count": null,
   "metadata": {},
   "outputs": [
    {
     "name": "stdout",
     "output_type": "stream",
     "text": [
      "Current Books: ['Python Basics', 'AI Fundamentals', 'Machine Learning']\n",
      "Total Books: 3\n"
     ]
    }
   ],
   "source": [
    "# Store a list of books in a library. Program should allow adding, removing, and displaying all books. Also, show total number of books. Sample Input: Books = [\"Python Basics\", \"Data Science\", \"AI Fundamentals\"], Add Book: \"Machine Learning\", Remove Book: \"Data Science\". Expected Output: Current Books: ['Python Basics', 'AI Fundamentals', 'Machine Learning'], Total Books: 3\n",
    "books = [\"Python Basics\", \"Data Science\", \"AI Fundamentals\"]\n",
    "books.append(\"Machine Learning\")\n",
    "books.remove(\"Data Science\")\n",
    "print(f'Current Books: {books}')\n",
    "print(f'Total Books: {len(books)}')"
   ]
  }
 ],
 "metadata": {
  "kernelspec": {
   "display_name": "Python 3",
   "language": "python",
   "name": "python3"
  },
  "language_info": {
   "codemirror_mode": {
    "name": "ipython",
    "version": 3
   },
   "file_extension": ".py",
   "mimetype": "text/x-python",
   "name": "python",
   "nbconvert_exporter": "python",
   "pygments_lexer": "ipython3",
   "version": "3.8.0"
  }
 },
 "nbformat": 4,
 "nbformat_minor": 4
}