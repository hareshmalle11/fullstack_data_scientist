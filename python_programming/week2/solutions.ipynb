{
 "cells": [
  {
   "cell_type": "markdown",
   "metadata": {},
   "source": [
    "# Problem 1: Count the total number of words in a text file"
   ]
  },
  {
   "cell_type": "code",
   "execution_count": null,
   "metadata": {},
   "outputs": [
    {
     "name": "stdout",
     "output_type": "stream",
     "text": [
      "5\n"
     ]
    }
   ],
   "source": [
    "# Count total words in a text file\n",
    "file = open(\"sample.txt\", \"r\")\n",
    "text = file.read()\n",
    "words = text.split()\n",
    "print(len(words))\n",
    "file.close()"
   ]
  },
  {
   "cell_type": "markdown",
   "metadata": {},
   "source": [
    "**Sample Output**: 5 (assuming `sample.txt` contains \"Hello world this is Python\")"
   ]
  },
  {
   "cell_type": "markdown",
   "metadata": {},
   "source": [
    "# Problem 2: Check if a password is strong (at least 8 chars, uppercase, lowercase, digit, special char)"
   ]
  },
  {
   "cell_type": "code",
   "execution_count": null,
   "metadata": {},
   "outputs": [
    {
     "name": "stdout",
     "output_type": "stream",
     "text": [
      "True\n"
     ]
    }
   ],
   "source": [
    "# Check if password is strong\n",
    "def is_strong_password(pwd):\n",
    "    if len(pwd) < 8:\n",
    "        return False\n",
    "    has_upper = False\n",
    "    has_lower = False\n",
    "    has_digit = False\n",
    "    has_special = False\n",
    "    special_chars = \"!@#$%^&*()\"\n",
    "    for c in pwd:\n",
    "        if c.isupper():\n",
    "            has_upper = True\n",
    "        elif c.islower():\n",
    "            has_lower = True\n",
    "        elif c.isdigit():\n",
    "            has_digit = True\n",
    "        elif c in special_chars:\n",
    "            has_special = True\n",
    "    return has_upper and has_lower and has_digit and has_special\n",
    "\n",
    "pwd = \"Ab1@xyzpq\"\n",
    "print(is_strong_password(pwd))"
   ]
  },
  {
   "cell_type": "markdown",
   "metadata": {},
   "source": [
    "**Sample Output**: True (input: \"Ab1@xyzpq\")"
   ]
  },
  {
   "cell_type": "markdown",
   "metadata": {},
   "source": [
    "# Problem 3: Implement a calculator with +, -, *, / operations"
   ]
  },
  {
   "cell_type": "code",
   "execution_count": null,
   "metadata": {},
   "outputs": [
    {
     "name": "stdout",
     "output_type": "stream",
     "text": [
      "7.0\n"
     ]
    }
   ],
   "source": [
    "# Calculator with basic operations\n",
    "num1 = 4\n",
    "op = \"+\"\n",
    "num2 = 3\n",
    "if op == \"+\":\n",
    "    print(num1 + num2)\n",
    "elif op == \"-\":\n",
    "    print(num1 - num2)\n",
    "elif op == \"*\":\n",
    "    print(num1 * num2)\n",
    "elif op == \"/\":\n",
    "    print(num1 / num2)\n",
    "else:\n",
    "    print(\"Invalid operator\")"
   ]
  },
  {
   "cell_type": "markdown",
   "metadata": {},
   "source": [
    "**Sample Output**: 7.0 (input: num1=4, op=\"+\", num2=3)"
   ]
  },
  {
   "cell_type": "markdown",
   "metadata": {},
   "source": [
    "# Problem 4: Find duplicates in a list of student names"
   ]
  },
  {
   "cell_type": "code",
   "execution_count": null,
   "metadata": {},
   "outputs": [
    {
     "name": "stdout",
     "output_type": "stream",
     "text": [
      "Duplicates: {'Alice'}\n"
     ]
    }
   ],
   "source": [
    "# Find duplicates in student names\n",
    "names = [\"Alice\", \"Bob\", \"Alice\", \"Charlie\"]\n",
    "seen = set()\n",
    "dups = set()\n",
    "for name in names:\n",
    "    name = name.strip()\n",
    "    if name in seen:\n",
    "        dups.add(name)\n",
    "    else:\n",
    "        seen.add(name)\n",
    "print(\"Duplicates:\", dups)"
   ]
  },
  {
   "cell_type": "markdown",
   "metadata": {},
   "source": [
    "**Sample Output**: Duplicates: {'Alice'} (input: [\"Alice\", \"Bob\", \"Alice\", \"Charlie\"])"
   ]
  },
  {
   "cell_type": "markdown",
   "metadata": {},
   "source": [
    "# Problem 5: Convert between Celsius and Fahrenheit"
   ]
  },
  {
   "cell_type": "code",
   "execution_count": null,
   "metadata": {},
   "outputs": [
    {
     "name": "stdout",
     "output_type": "stream",
     "text": [
      "86.0 F\n"
     ]
    }
   ],
   "source": [
    "# Convert Celsius to Fahrenheit and vice versa\n",
    "unit = \"C\"\n",
    "temp = 30\n",
    "if unit == \"C\":\n",
    "    print((temp * 9/5) + 32, \"F\")\n",
    "elif unit == \"F\":\n",
    "    print((temp - 32) * 5/9, \"C\")\n",
    "else:\n",
    "    print(\"Invalid unit\")"
   ]
  },
  {
   "cell_type": "markdown",
   "metadata": {},
   "source": [
    "**Sample Output**: 86.0 F (input: unit=\"C\", temp=30)"
   ]
  },
  {
   "cell_type": "markdown",
   "metadata": {},
   "source": [
    "# Problem 6: Find the largest number from a list of integers"
   ]
  },
  {
   "cell_type": "code",
   "execution_count": null,
   "metadata": {},
   "outputs": [
    {
     "name": "stdout",
     "output_type": "stream",
     "text": [
      "9\n"
     ]
    }
   ],
   "source": [
    "# Find largest number in a list\n",
    "nums = [4, 7, 2, 9, 1]\n",
    "print(max(nums))"
   ]
  },
  {
   "cell_type": "markdown",
   "metadata": {},
   "source": [
    "**Sample Output**: 9 (input: [4, 7, 2, 9, 1])"
   ]
  },
  {
   "cell_type": "markdown",
   "metadata": {},
   "source": [
    "# Problem 7: Calculate Simple Interest"
   ]
  },
  {
   "cell_type": "code",
   "execution_count": null,
   "metadata": {},
   "outputs": [
    {
     "name": "stdout",
     "output_type": "stream",
     "text": [
      "Simple Interest: 600.0\n"
     ]
    }
   ],
   "source": [
    "# Calculate Simple Interest\n",
    "p = 1000\n",
    "r = 5\n",
    "t = 12\n",
    "si = (p * r * t) / 100\n",
    "print(\"Simple Interest:\", si)"
   ]
  },
  {
   "cell_type": "markdown",
   "metadata": {},
   "source": [
    "**Sample Output**: Simple Interest: 600.0 (input: p=1000, r=5, t=12)"
   ]
  },
  {
   "cell_type": "markdown",
   "metadata": {},
   "source": [
    "# Problem 8: Find students with attendance < 75%"
   ]
  },
  {
   "cell_type": "code",
   "execution_count": null,
   "metadata": {},
   "outputs": [
    {
     "name": "stdout",
     "output_type": "stream",
     "text": [
      "Defaulters: {'Bob': 70, 'Charlie': 65}\n"
     ]
    }
   ],
   "source": [
    "# Find students with attendance < 75%\n",
    "attendance = {\"Alice\": 80, \"Bob\": 70, \"Charlie\": 65, \"David\": 90}\n",
    "defaulters = {name: perc for name, perc in attendance.items() if perc < 75}\n",
    "print(\"Defaulters:\", defaulters)"
   ]
  },
  {
   "cell_type": "markdown",
   "metadata": {},
   "source": [
    "**Sample Output**: Defaulters: {'Bob': 70, 'Charlie': 65}"
   ]
  },
  {
   "cell_type": "markdown",
   "metadata": {},
   "source": [
    "# Problem 9: Input: 1234 → Output: 10 (sum of digits)"
   ]
  },
  {
   "cell_type": "code",
   "execution_count": null,
   "metadata": {},
   "outputs": [
    {
     "name": "stdout",
     "output_type": "stream",
     "text": [
      "10\n"
     ]
    }
   ],
   "source": [
    "# Sum of digits in a number\n",
    "num = \"1234\"\n",
    "total = sum(int(digit) for digit in num)\n",
    "print(total)"
   ]
  },
  {
   "cell_type": "markdown",
   "metadata": {},
   "source": [
    "**Sample Output**: 10 (input: \"1234\")"
   ]
  },
  {
   "cell_type": "markdown",
   "metadata": {},
   "source": [
    "# Problem 10: Check if a number is prime"
   ]
  },
  {
   "cell_type": "code",
   "execution_count": null,
   "metadata": {},
   "outputs": [
    {
     "name": "stdout",
     "output_type": "stream",
     "text": [
      "True\n"
     ]
    }
   ],
   "source": [
    "# Check if a number is prime\n",
    "def is_prime(n):\n",
    "    if n < 2:\n",
    "        return False\n",
    "    for i in range(2, int(n ** 0.5) + 1):\n",
    "        if n % i == 0:\n",
    "            return False\n",
    "    return True\n",
    "\n",
    "num = 17\n",
    "print(is_prime(num))"
   ]
  },
  {
   "cell_type": "markdown",
   "metadata": {},
   "source": [
    "**Sample Output**: True (input: 17)"
   ]
  },
  {
   "cell_type": "markdown",
   "metadata": {},
   "source": [
    "# Problem 11: Find smallest and largest numbers from a list"
   ]
  },
  {
   "cell_type": "code",
   "execution_count": null,
   "metadata": {},
   "outputs": [
    {
     "name": "stdout",
     "output_type": "stream",
     "text": [
      "Smallest: 1\n",
      "Largest: 9\n"
     ]
    }
   ],
   "source": [
    "# Find smallest and largest numbers in a list\n",
    "nums = [4, 7, 2, 9, 1]\n",
    "print(\"Smallest:\", min(nums))\n",
    "print(\"Largest:\", max(nums))"
   ]
  },
  {
   "cell_type": "markdown",
   "metadata": {},
   "source": [
    "**Sample Output**: Smallest: 1, Largest: 9 (input: [4, 7, 2, 9, 1])"
   ]
  },
  {
   "cell_type": "markdown",
   "metadata": {},
   "source": [
    "# Problem 12: Calculate total bill from items with prices"
   ]
  },
  {
   "cell_type": "code",
   "execution_count": null,
   "metadata": {},
   "outputs": [
    {
     "name": "stdout",
     "output_type": "stream",
     "text": [
      "Total bill: 23\n"
     ]
    }
   ],
   "source": [
    "# Calculate total bill from dictionary of items and prices\n",
    "items = {\"apple\": 10, \"banana\": 5, \"orange\": 8}\n",
    "total = sum(items.values())\n",
    "print(\"Total bill:\", total)"
   ]
  },
  {
   "cell_type": "markdown",
   "metadata": {},
   "source": [
    "**Sample Output**: Total bill: 23"
   ]
  },
  {
   "cell_type": "markdown",
   "metadata": {},
   "source": [
    "# Problem 13: Input 3 numbers, print the largest"
   ]
  },
  {
   "cell_type": "code",
   "execution_count": null,
   "metadata": {},
   "outputs": [
    {
     "name": "stdout",
     "output_type": "stream",
     "text": [
      "7\n"
     ]
    }
   ],
   "source": [
    "# Find largest of 3 numbers\n",
    "a = 5\n",
    "b = 7\n",
    "c = 3\n",
    "print(max(a, b, c))"
   ]
  },
  {
   "cell_type": "markdown",
   "metadata": {},
   "source": [
    "**Sample Output**: 7 (input: a=5, b=7, c=3)"
   ]
  },
  {
   "cell_type": "markdown",
   "metadata": {},
   "source": [
    "# Problem 14: Count how many times each character appears in a string"
   ]
  },
  {
   "cell_type": "code",
   "execution_count": null,
   "metadata": {},
   "outputs": [
    {
     "name": "stdout",
     "output_type": "stream",
     "text": [
      "{'h': 1, 'e': 3, 'l': 2, 'o': 1}\n"
     ]
    }
   ],
   "source": [
    "# Count character occurrences in a string\n",
    "s = \"hello\"\n",
    "counts = {}\n",
    "for c in s:\n",
    "    counts[c] = counts.get(c, 0) + 1\n",
    "print(counts)"
   ]
  },
  {
   "cell_type": "markdown",
   "metadata": {},
   "source": [
    "**Sample Output**: {'h': 1, 'e': 3, 'l': 2, 'o': 1} (input: \"hello\")"
   ]
  },
  {
   "cell_type": "markdown",
   "metadata": {},
   "source": [
    "# Problem 15: Calculate electricity bill (100 units → ₹5, next 100 → ₹7, above 200 → ₹10)"
   ]
  },
  {
   "cell_type": "code",
   "execution_count": null,
   "metadata": {},
   "outputs": [
    {
     "name": "stdout",
     "output_type": "stream",
     "text": [
      "Bill: 1700\n"
     ]
    }
   ],
   "source": [
    "# Calculate electricity bill\n",
    "units = 250\n",
    "bill = 0\n",
    "if units <= 100:\n",
    "    bill = units * 5\n",
    "elif units <= 200:\n",
    "    bill = (100 * 5) + (units - 100) * 7\n",
    "else:\n",
    "    bill = (100 * 5) + (100 * 7) + (units - 200) * 10\n",
    "print(\"Bill:\", bill)"
   ]
  },
  {
   "cell_type": "markdown",
   "metadata": {},
   "source": [
    "**Sample Output**: Bill: 1700 (input: units=250)"
   ]
  },
  {
   "cell_type": "markdown",
   "metadata": {},
   "source": [
    "# Problem 16: Sort a list of names in ascending order"
   ]
  },
  {
   "cell_type": "code",
   "execution_count": null,
   "metadata": {},
   "outputs": [
    {
     "name": "stdout",
     "output_type": "stream",
     "text": [
      "['Alice', 'Bob', 'Charlie']\n"
     ]
    }
   ],
   "source": [
    "# Sort names in ascending order\n",
    "names = [\"Charlie\", \"Alice\", \"Bob\"]\n",
    "names = [name.strip() for name in names]\n",
    "names.sort()\n",
    "print(names)"
   ]
  },
  {
   "cell_type": "markdown",
   "metadata": {},
   "source": [
    "**Sample Output**: ['Alice', 'Bob', 'Charlie'] (input: [\"Charlie\", \"Alice\", \"Bob\"])"
   ]
  },
  {
   "cell_type": "markdown",
   "metadata": {},
   "source": [
    "# Problem 17: Input: 1234 → Output: 4321 (reverse number)"
   ]
  },
  {
   "cell_type": "code",
   "execution_count": null,
   "metadata": {},
   "outputs": [
    {
     "name": "stdout",
     "output_type": "stream",
     "text": [
      "4321\n"
     ]
    }
   ],
   "source": [
    "# Reverse a number\n",
    "num = \"1234\"\n",
    "print(num[::-1])"
   ]
  },
  {
   "cell_type": "markdown",
   "metadata": {},
   "source": [
    "**Sample Output**: 4321 (input: \"1234\")"
   ]
  },
  {
   "cell_type": "markdown",
   "metadata": {},
   "source": [
    "# Problem 18: Count positive, negative, and zero numbers in a list"
   ]
  },
  {
   "cell_type": "code",
   "execution_count": null,
   "metadata": {},
   "outputs": [
    {
     "name": "stdout",
     "output_type": "stream",
     "text": [
      "Positive: 2 Negative: 2 Zero: 1\n"
     ]
    }
   ],
   "source": [
    "# Count positive, negative, and zero numbers\n",
    "nums = [1, -2, 0, 3, -4]\n",
    "pos = len([n for n in nums if n > 0])\n",
    "neg = len([n for n in nums if n < 0])\n",
    "zero = len([n for n in nums if n == 0])\n",
    "print(\"Positive:\", pos, \"Negative:\", neg, \"Zero:\", zero)"
   ]
  },
  {
   "cell_type": "markdown",
   "metadata": {},
   "source": [
    "**Sample Output**: Positive: 2 Negative: 2 Zero: 1 (input: [1, -2, 0, 3, -4])"
   ]
  },
  {
   "cell_type": "markdown",
   "metadata": {},
   "source": [
    "# Problem 19: Allow 3 attempts to enter correct PIN"
   ]
  },
  {
   "cell_type": "code",
   "execution_count": null,
   "metadata": {},
   "outputs": [
    {
     "name": "stdout",
     "output_type": "stream",
     "text": [
      "Access granted\n"
     ]
    }
   ],
   "source": [
    "# Allow 3 attempts to enter correct PIN\n",
    "correct_pin = \"1234\"\n",
    "pin = \"1234\"\n",
    "for i in range(3):\n",
    "    if pin == correct_pin:\n",
    "        print(\"Access granted\")\n",
    "        break\n",
    "else:\n",
    "    print(\"Access denied\")"
   ]
  },
  {
   "cell_type": "markdown",
   "metadata": {},
   "source": [
    "**Sample Output**: Access granted (input: pin=\"1234\")"
   ]
  },
  {
   "cell_type": "markdown",
   "metadata": {},
   "source": [
    "# Problem 20: Divide two numbers, handle division by zero"
   ]
  },
  {
   "cell_type": "code",
   "execution_count": null,
   "metadata": {},
   "outputs": [
    {
     "name": "stdout",
     "output_type": "stream",
     "text": [
      "2.0\n"
     ]
    }
   ],
   "source": [
    "# Divide two numbers, handle division by zero\n",
    "try:\n",
    "    a = 10\n",
    "    b = 5\n",
    "    result = a / b\n",
    "    print(result)\n",
    "except ZeroDivisionError:\n",
    "    print(\"Cannot divide by zero\")"
   ]
  },
  {
   "cell_type": "markdown",
   "metadata": {},
   "source": [
    "**Sample Output**: 2.0 (input: a=10, b=5)"
   ]
  },
  {
   "cell_type": "markdown",
   "metadata": {},
   "source": [
    "# Problem 21: Handle ValueError and ZeroDivisionError for division"
   ]
  },
  {
   "cell_type": "code",
   "execution_count": null,
   "metadata": {},
   "outputs": [
    {
     "name": "stdout",
     "output_type": "stream",
     "text": [
      "Cannot divide by zero\n"
     ]
    }
   ],
   "source": [
    "# Handle ValueError and ZeroDivisionError\n",
    "try:\n",
    "    a = 10\n",
    "    b = 0\n",
    "    result = a / b\n",
    "    print(result)\n",
    "except ValueError:\n",
    "    print(\"Invalid input\")\n",
    "except ZeroDivisionError:\n",
    "    print(\"Cannot divide by zero\")"
   ]
  },
  {
   "cell_type": "markdown",
   "metadata": {},
   "source": [
    "**Sample Output**: Cannot divide by zero (input: a=10, b=0)"
   ]
  },
  {
   "cell_type": "markdown",
   "metadata": {},
   "source": [
    "# Problem 22: Raise exception if withdrawal amount exceeds balance"
   ]
  },
  {
   "cell_type": "code",
   "execution_count": null,
   "metadata": {},
   "outputs": [
    {
     "name": "stdout",
     "output_type": "stream",
     "text": [
      "New balance: 500\n"
     ]
    }
   ],
   "source": [
    "# Raise exception for insufficient balance\n",
    "balance = 1000\n",
    "withdraw = 500\n",
    "if withdraw > balance:\n",
    "    raise Exception(\"Insufficient balance\")\n",
    "else:\n",
    "    balance -= withdraw\n",
    "    print(\"New balance:\", balance)"
   ]
  },
  {
   "cell_type": "markdown",
   "metadata": {},
   "source": [
    "**Sample Output**: New balance: 500 (input: withdraw=500)"
   ]
  },
  {
   "cell_type": "markdown",
   "metadata": {},
   "source": [
    "# Problem 23: Calculate electricity bill, handle invalid input, show \"Bill processing finished\""
   ]
  },
  {
   "cell_type": "code",
   "execution_count": null,
   "metadata": {},
   "outputs": [
    {
     "name": "stdout",
     "output_type": "stream",
     "text": [
      "Bill: 1200\n",
      "Bill processing finished\n"
     ]
    }
   ],
   "source": [
    "# Calculate electricity bill, handle invalid input\n",
    "try:\n",
    "    units = 200\n",
    "    bill = 0\n",
    "    if units <= 100:\n",
    "        bill = units * 5\n",
    "    elif units <= 200:\n",
    "        bill = (100 * 5) + (units - 100) * 7\n",
    "    else:\n",
    "        bill = (100 * 5) + (100 * 7) + (units - 200) * 10\n",
    "    print(\"Bill:\", bill)\n",
    "except ValueError:\n",
    "    print(\"Invalid input\")\n",
    "finally:\n",
    "    print(\"Bill processing finished\")"
   ]
  },
  {
   "cell_type": "markdown",
   "metadata": {},
   "source": [
    "**Sample Output**: Bill: 1200, Bill processing finished (input: units=200)"
   ]
  }
 ],
 "metadata": {
  "kernelspec": {
   "display_name": "Python 3",
   "language": "python",
   "name": "python3"
  },
  "language_info": {
   "codemirror_mode": {
    "name": "ipython",
    "version": 3
   },
   "file_extension": ".py",
   "mimetype": "text/x-python",
   "name": "python",
   "nbconvert_exporter": "python",
   "pygments_lexer": "ipython3",
   "version": "3.8.0"
  }
 },
 "nbformat": 4,
 "nbformat_minor": 4
}