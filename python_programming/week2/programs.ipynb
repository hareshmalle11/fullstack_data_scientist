{
 "cells": [
  {
   "cell_type": "code",
   "execution_count": 4,
   "id": "4f980277",
   "metadata": {},
   "outputs": [
    {
     "name": "stdout",
     "output_type": "stream",
     "text": [
      "310\n"
     ]
    }
   ],
   "source": [
    "s=0\n",
    "for i in range(3):\n",
    "    x,y=map(int,input(f\"item{i+1}\").split())\n",
    "    s+=x*y\n",
    "print(s)\n"
   ]
  },
  {
   "cell_type": "code",
   "execution_count": 1,
   "id": "4d5d5150",
   "metadata": {},
   "outputs": [
    {
     "name": "stdout",
     "output_type": "stream",
     "text": [
      "Addition = 19\n",
      "Subtraction = 11\n",
      "Multilpication = 60\n",
      "Division = 3.75\n",
      "Modulus = 3\n"
     ]
    }
   ],
   "source": [
    "\n",
    "a = int(input(\"Number 1: \"))\n",
    "b = int(input(\"Number 2: \"))\n",
    "print(\"Addition =\",a + b)\n",
    "print(\"Subtraction =\",a - b)\n",
    "print(\"Multilpication =\",a * b)\n",
    "print(\"Division =\",a / b)\n",
    "print(\"Modulus =\",a % b)"
   ]
  },
  {
   "cell_type": "code",
   "execution_count": 2,
   "id": "dfc3fe05",
   "metadata": {},
   "outputs": [
    {
     "name": "stdout",
     "output_type": "stream",
     "text": [
      "Grade A\n"
     ]
    }
   ],
   "source": [
    "marks=int(input(\"Enter your marks\"))\n",
    "if marks>=90:\n",
    "    print(\"Grade:A+\")    \n",
    "elif marks>=80 and marks<90:\n",
    "    print(\"Grade:A\")\n",
    "elif marks>=70 and marks<80:\n",
    "    print(\"Grade:B\")\n",
    "elif marks>=60 and marks<70:\n",
    "    print(\"Grade:C\")\n",
    "else:\n",
    "    print(\"Fail\")\n"
   ]
  },
  {
   "cell_type": "code",
   "execution_count": 12,
   "id": "dc63cd65",
   "metadata": {},
   "outputs": [
    {
     "name": "stdout",
     "output_type": "stream",
     "text": [
      "[45, 78, 88, 56, 90]\n",
      "Highest Marks = 90\n",
      "Lowest Marks = 45\n",
      "Average Marks = 71.4\n"
     ]
    }
   ],
   "source": [
    "\n",
    "l=[]\n",
    "for _ in range(5):\n",
    "    i=int(input(\"Enter marks:\"))\n",
    "    l.append(i)\n",
    "print(l)\n",
    "print(\"Highest Marks =\",max(l))\n",
    "print(\"Lowest Marks =\",min(l))\n",
    "print(\"Average Marks =\",sum(l)/len(l))\n"
   ]
  },
  {
   "cell_type": "code",
   "execution_count": 13,
   "id": "57d00a53",
   "metadata": {},
   "outputs": [
    {
     "name": "stdout",
     "output_type": "stream",
     "text": [
      "Phone number of vb is 890\n"
     ]
    }
   ],
   "source": [
    "d={}\n",
    "n=int(input(\"Enter number of items\"))\n",
    "for _ in range(n):  \n",
    "    name,phone=input(\"Enter name and phone number\").split()\n",
    "    d[name]=phone\n",
    "k=input(\"Search name\")\n",
    "if k in d:\n",
    "    print(f\"Phone number of {k} is {d[k]}\")\n"
   ]
  },
  {
   "cell_type": "code",
   "execution_count": 19,
   "id": "39265af1",
   "metadata": {},
   "outputs": [
    {
     "name": "stdout",
     "output_type": "stream",
     "text": [
      "512\n"
     ]
    }
   ],
   "source": [
    "print(2**3**2)"
   ]
  },
  {
   "cell_type": "code",
   "execution_count": 20,
   "id": "3335c94f",
   "metadata": {},
   "outputs": [
    {
     "name": "stdout",
     "output_type": "stream",
     "text": [
      "-2 -3 -4 "
     ]
    }
   ],
   "source": [
    "for i in range(-2, -5, -1):\n",
    "    print(i, end=\" \")"
   ]
  },
  {
   "cell_type": "code",
   "execution_count": 21,
   "id": "fbad816a",
   "metadata": {},
   "outputs": [
    {
     "name": "stdout",
     "output_type": "stream",
     "text": [
      "True\n"
     ]
    }
   ],
   "source": [
    "a = None\n",
    "print(type(a) is type(None))\n",
    "\n"
   ]
  },
  {
   "cell_type": "code",
   "execution_count": 22,
   "id": "c1955a59",
   "metadata": {},
   "outputs": [
    {
     "name": "stdout",
     "output_type": "stream",
     "text": [
      "2\n"
     ]
    }
   ],
   "source": [
    "\n",
    "for i in range(3):\n",
    "\n",
    "    pass\n",
    "\n",
    "print(i)"
   ]
  },
  {
   "cell_type": "code",
   "execution_count": 23,
   "id": "4a66b125",
   "metadata": {},
   "outputs": [
    {
     "name": "stdout",
     "output_type": "stream",
     "text": [
      "None\n"
     ]
    }
   ],
   "source": [
    "my_dict = {\"a\": 1, \"b\": 2}\n",
    "print(my_dict.get(\"c\"))"
   ]
  },
  {
   "cell_type": "code",
   "execution_count": 24,
   "id": "7432355d",
   "metadata": {},
   "outputs": [
    {
     "name": "stdout",
     "output_type": "stream",
     "text": [
      "3\n"
     ]
    }
   ],
   "source": [
    "\n",
    "d = {\"x\": 1, \"y\": 2}\n",
    "d[\"z\"] = 3\n",
    "print(len(d))\n",
    "\n"
   ]
  },
  {
   "cell_type": "code",
   "execution_count": 25,
   "id": "a644d117",
   "metadata": {},
   "outputs": [
    {
     "name": "stdout",
     "output_type": "stream",
     "text": [
      "Zero\n"
     ]
    }
   ],
   "source": [
    "x = 0\n",
    "\n",
    "if not x:\n",
    "\n",
    "    print(\"Zero\")\n",
    "\n",
    "else:\n",
    "\n",
    "    print(\"Non-zero\")"
   ]
  },
  {
   "cell_type": "code",
   "execution_count": null,
   "id": "3f87f7d1",
   "metadata": {},
   "outputs": [
    {
     "name": "stdout",
     "output_type": "stream",
     "text": [
      "22\n"
     ]
    }
   ],
   "source": [
    "lst = [1, \"2\", 3.0]\n",
    "print(lst[1] * 2)\n"
   ]
  },
  {
   "cell_type": "code",
   "execution_count": 28,
   "id": "568e51ff",
   "metadata": {},
   "outputs": [
    {
     "name": "stdout",
     "output_type": "stream",
     "text": [
      "Abc gvhkvbhn jkhjknj\n"
     ]
    }
   ],
   "source": [
    "k=\"abc gvhkvbhn jkhjknj\"\n",
    "print(k.capitalize())"
   ]
  },
  {
   "cell_type": "code",
   "execution_count": 29,
   "id": "689e6ed2",
   "metadata": {},
   "outputs": [
    {
     "data": {
      "text/plain": [
       "float"
      ]
     },
     "execution_count": 29,
     "metadata": {},
     "output_type": "execute_result"
    }
   ],
   "source": [
    "type(8.9)"
   ]
  },
  {
   "cell_type": "code",
   "execution_count": 30,
   "id": "9ff53e43",
   "metadata": {},
   "outputs": [
    {
     "name": "stdout",
     "output_type": "stream",
     "text": [
      "Python\n"
     ]
    }
   ],
   "source": [
    "s = \"python\"\n",
    "\n",
    "print(s.capitalize())"
   ]
  },
  {
   "cell_type": "code",
   "execution_count": 38,
   "id": "fda7683e",
   "metadata": {},
   "outputs": [
    {
     "name": "stdout",
     "output_type": "stream",
     "text": [
      "Words: 3\n",
      "Characters: 17\n",
      "Vowels: 6\n"
     ]
    }
   ],
   "source": [
    "a=input()\n",
    "w,v,c=0,0,0\n",
    "w=len(a.split())\n",
    "for i in a:\n",
    "    if i.lower() in set('aeiou'):\n",
    "        v+=1\n",
    "        c+=1\n",
    "    else:\n",
    "        c+=1\n",
    "print(\"Words:\",w)\n",
    "print(\"Characters:\",c)\n",
    "print(\"Vowels:\",v)\n"
   ]
  },
  {
   "cell_type": "code",
   "execution_count": 42,
   "id": "71816ebe",
   "metadata": {},
   "outputs": [
    {
     "name": "stdout",
     "output_type": "stream",
     "text": [
      "Compound Interest = 512.5\n",
      "Total Amount = 5512.5\n"
     ]
    }
   ],
   "source": [
    "p=int(input(\"Principal =\"))\n",
    "r=int(input(\"Rate =\"))\n",
    "t=int(input(\"Time =\"))\n",
    "i=input(\"Interest Type =\")\n",
    "if i.lower()=='simple':\n",
    "    si=(p*r*t)/100\n",
    "    print(\"Simple Interest =\",si)\n",
    "    print(\"Total Amount =\",p+si)\n",
    "elif i.lower()=='compound':\n",
    "    ci=p*(1+r/100)**t - p\n",
    "    print(\"Compound Interest =\",ci)\n",
    "    print(\"Total Amount =\",p+ci)\n",
    "\n",
    "\n"
   ]
  },
  {
   "cell_type": "code",
   "execution_count": 48,
   "id": "c18572c2",
   "metadata": {},
   "outputs": [
    {
     "name": "stdout",
     "output_type": "stream",
     "text": [
      "KHOOR\n"
     ]
    }
   ],
   "source": [
    "m=input(\"Enter Message\")\n",
    "s=int(input(\"Enter Shift\"))\n",
    "e=\"\"\n",
    "for i in range(len(m)):\n",
    "    e+=chr(ord(m[i])+s)\n",
    "print(e)"
   ]
  },
  {
   "cell_type": "code",
   "execution_count": null,
   "id": "17b127a8",
   "metadata": {},
   "outputs": [],
   "source": []
  },
  {
   "cell_type": "code",
   "execution_count": 55,
   "id": "e3332ce8",
   "metadata": {},
   "outputs": [
    {
     "name": "stdout",
     "output_type": "stream",
     "text": [
      "PIN Verified\n",
      "Withdrawal Successful.Remaining Balance = 2000\n"
     ]
    }
   ],
   "source": [
    "p=input(\"PIN\")\n",
    "b=int(input(\"Balance\"))\n",
    "a=int(input(\"Withdraw\"))\n",
    "if len(p)!=4 or p.isdigit()==False:\n",
    "    print(\"Invalid PIN\")\n",
    "else:\n",
    "    print(\"PIN Verified\")\n",
    "    if a>b:\n",
    "        print(\"Insufficient Balance\")   \n",
    "    else:\n",
    "        print(\"Withdrawal Successful.Remaining Balance =\",b-a)\n"
   ]
  },
  {
   "cell_type": "code",
   "execution_count": null,
   "id": "53c910be",
   "metadata": {},
   "outputs": [],
   "source": []
  }
 ],
 "metadata": {
  "kernelspec": {
   "display_name": "Python 3",
   "language": "python",
   "name": "python3"
  },
  "language_info": {
   "codemirror_mode": {
    "name": "ipython",
    "version": 3
   },
   "file_extension": ".py",
   "mimetype": "text/x-python",
   "name": "python",
   "nbconvert_exporter": "python",
   "pygments_lexer": "ipython3",
   "version": "3.11.13"
  }
 },
 "nbformat": 4,
 "nbformat_minor": 5
}
